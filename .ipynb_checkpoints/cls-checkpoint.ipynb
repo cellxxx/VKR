{
 "cells": [
  {
   "cell_type": "code",
   "execution_count": 4,
   "id": "0fa5f587-7195-4fe5-b433-acf660282c2c",
   "metadata": {},
   "outputs": [
    {
     "name": "stdout",
     "output_type": "stream",
     "text": [
      "Изображение: photo.jpg, Класс: Паук, Время: 2024-12-25 11:37:34\n"
     ]
    },
    {
     "name": "stderr",
     "output_type": "stream",
     "text": [
      "C:\\Users\\tseli\\AppData\\Local\\Temp\\ipykernel_13224\\2160936303.py:13: FutureWarning: You are using `torch.load` with `weights_only=False` (the current default value), which uses the default pickle module implicitly. It is possible to construct malicious pickle data which will execute arbitrary code during unpickling (See https://github.com/pytorch/pytorch/blob/main/SECURITY.md#untrusted-models for more details). In a future release, the default value for `weights_only` will be flipped to `True`. This limits the functions that could be executed during unpickling. Arbitrary objects will no longer be allowed to be loaded via this mode unless they are explicitly allowlisted by the user via `torch.serialization.add_safe_globals`. We recommend you start setting `weights_only=True` for any use case where you don't have full control of the loaded file. Please open an issue on GitHub for any issues related to this experimental feature.\n",
      "  model.load_state_dict(torch.load(model_path))  # Загружаем веса\n"
     ]
    }
   ],
   "source": [
    "import torch\n",
    "from torchvision.models import resnet18\n",
    "from torchvision import transforms\n",
    "from PIL import Image\n",
    "from datetime import datetime\n",
    "import os\n",
    "\n",
    "# Загрузка модели ResNet18\n",
    "model = resnet18(pretrained=False)  # Создаём модель\n",
    "num_classes = 10  # Количество классов в вашей задаче\n",
    "model.fc = torch.nn.Linear(model.fc.in_features, num_classes)  # Настраиваем последний слой\n",
    "\n",
    "model_path = 'resnet18_biology.pth'  # Укажите путь к вашей сохранённой модели\n",
    "model.load_state_dict(torch.load(model_path))  # Загружаем веса\n",
    "model.eval()\n",
    "\n",
    "# Устройство выполнения\n",
    "device = torch.device('cuda' if torch.cuda.is_available() else 'cpu')\n",
    "model = model.to(device)\n",
    "\n",
    "# Преобразования для изображения\n",
    "transform = transforms.Compose([\n",
    "    transforms.Resize((224, 224)),\n",
    "    transforms.ToTensor(),\n",
    "    transforms.Normalize(mean=[0.485, 0.456, 0.406], std=[0.229, 0.224, 0.225]),\n",
    "])\n",
    "\n",
    "# Папка для журнала с изображениями\n",
    "log_dir = \"classification_log\"\n",
    "os.makedirs(log_dir, exist_ok=True)\n",
    "\n",
    "# Функция классификации\n",
    "def classify_image(image_path):\n",
    "    try:\n",
    "        # Открываем изображение\n",
    "        image = Image.open(image_path).convert('RGB')\n",
    "\n",
    "        # Преобразуем изображение\n",
    "        input_tensor = transform(image).unsqueeze(0).to(device)\n",
    "\n",
    "        # Классификация\n",
    "        with torch.no_grad():\n",
    "            outputs = model(input_tensor)\n",
    "            _, predicted = torch.max(outputs, 1)\n",
    "        \n",
    "        # Имя класса (замените `class_names` на ваш список классов)\n",
    "        class_names = [\"Собака\", \"Лошадь\", \"Слон\", \"Бабочка\", \"Курица\", \"Кошка\", \"Корова\", \"Овца\", \"Паук\", \"Белка\"]\n",
    "        class_name = class_names[predicted.item()]\n",
    "\n",
    "        # Метка времени\n",
    "        timestamp = datetime.now().strftime(\"%Y-%m-%d_%H-%M-%S\")\n",
    "\n",
    "        # Сохраняем изображение в журнал\n",
    "        saved_image_path = os.path.join(log_dir, f\"{timestamp}_{class_name}.jpg\")\n",
    "        image.save(saved_image_path)\n",
    "\n",
    "        # Сохраняем запись в журнал\n",
    "        with open(os.path.join(log_dir, \"log.txt\"), \"a\") as log:\n",
    "            log.write(f\"{timestamp}, {class_name}, {saved_image_path}\\n\")\n",
    "\n",
    "        print(f\"Изображение сохранено: {saved_image_path}, Класс: {class_name}\")\n",
    "    except Exception as e:\n",
    "        print(f\"Ошибка при обработке изображения: {e}\")\n",
    "\n",
    "# Классифицируем изображение photo.jpg\n",
    "classify_image(\"photo.jpg\")\n"
   ]
  },
  {
   "cell_type": "code",
   "execution_count": null,
   "id": "7b50645d-8e96-4423-b604-dcd3c4c50af5",
   "metadata": {},
   "outputs": [],
   "source": []
  }
 ],
 "metadata": {
  "kernelspec": {
   "display_name": "Python 3 (ipykernel)",
   "language": "python",
   "name": "python3"
  },
  "language_info": {
   "codemirror_mode": {
    "name": "ipython",
    "version": 3
   },
   "file_extension": ".py",
   "mimetype": "text/x-python",
   "name": "python",
   "nbconvert_exporter": "python",
   "pygments_lexer": "ipython3",
   "version": "3.11.9"
  }
 },
 "nbformat": 4,
 "nbformat_minor": 5
}
